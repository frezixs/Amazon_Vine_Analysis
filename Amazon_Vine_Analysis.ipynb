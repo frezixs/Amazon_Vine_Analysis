{
  "nbformat": 4,
  "nbformat_minor": 0,
  "metadata": {
    "colab": {
      "name": "Amazon_Vine_Analysis.ipynb",
      "provenance": []
    },
    "kernelspec": {
      "name": "python3",
      "display_name": "Python 3"
    },
    "language_info": {
      "name": "python"
    }
  },
  "cells": [
    {
      "cell_type": "code",
      "metadata": {
        "colab": {
          "base_uri": "https://localhost:8080/"
        },
        "id": "7ijpw5kGw9ug",
        "outputId": "67bff955-a834-4d37-efd9-58ed5b4ad4f9"
      },
      "source": [
        "import os\n",
        "# Find the latest version of spark 3.0 from http://www.apache.org/dist/spark/ and enter as the spark version\n",
        "# For example:\n",
        "# spark_version = 'spark-3.0.3'\n",
        "spark_version = 'spark-3.0.3'\n",
        "os.environ['SPARK_VERSION']=spark_version\n",
        "\n",
        "# Install Spark and Java\n",
        "!apt-get update\n",
        "!apt-get install openjdk-11-jdk-headless -qq > /dev/null\n",
        "!wget -q http://www.apache.org/dist/spark/$SPARK_VERSION/$SPARK_VERSION-bin-hadoop2.7.tgz\n",
        "!tar xf $SPARK_VERSION-bin-hadoop2.7.tgz\n",
        "!pip install -q findspark\n",
        "\n",
        "# Set Environment Variables\n",
        "import os\n",
        "os.environ[\"JAVA_HOME\"] = \"/usr/lib/jvm/java-11-openjdk-amd64\"\n",
        "os.environ[\"SPARK_HOME\"] = f\"/content/{spark_version}-bin-hadoop2.7\"\n",
        "\n",
        "# Start a SparkSession\n",
        "import findspark\n",
        "findspark.init()"
      ],
      "execution_count": 1,
      "outputs": [
        {
          "output_type": "stream",
          "text": [
            "\r0% [Working]\r            \rGet:1 http://security.ubuntu.com/ubuntu bionic-security InRelease [88.7 kB]\n",
            "\r0% [Connecting to archive.ubuntu.com (91.189.88.152)] [1 InRelease 14.2 kB/88.7\r0% [Connecting to archive.ubuntu.com (91.189.88.152)] [Waiting for headers] [Wa\r                                                                               \rIgn:2 https://developer.download.nvidia.com/compute/cuda/repos/ubuntu1804/x86_64  InRelease\n",
            "Get:3 https://cloud.r-project.org/bin/linux/ubuntu bionic-cran40/ InRelease [3,626 B]\n",
            "Ign:4 https://developer.download.nvidia.com/compute/machine-learning/repos/ubuntu1804/x86_64  InRelease\n",
            "Get:5 http://ppa.launchpad.net/c2d4u.team/c2d4u4.0+/ubuntu bionic InRelease [15.9 kB]\n",
            "Get:6 https://developer.download.nvidia.com/compute/cuda/repos/ubuntu1804/x86_64  Release [697 B]\n",
            "Hit:7 https://developer.download.nvidia.com/compute/machine-learning/repos/ubuntu1804/x86_64  Release\n",
            "Hit:8 http://archive.ubuntu.com/ubuntu bionic InRelease\n",
            "Get:9 https://developer.download.nvidia.com/compute/cuda/repos/ubuntu1804/x86_64  Release.gpg [836 B]\n",
            "Get:10 http://archive.ubuntu.com/ubuntu bionic-updates InRelease [88.7 kB]\n",
            "Hit:11 http://ppa.launchpad.net/cran/libgit2/ubuntu bionic InRelease\n",
            "Get:12 http://security.ubuntu.com/ubuntu bionic-security/universe amd64 Packages [1,421 kB]\n",
            "Get:13 http://security.ubuntu.com/ubuntu bionic-security/main amd64 Packages [2,263 kB]\n",
            "Get:14 http://ppa.launchpad.net/deadsnakes/ppa/ubuntu bionic InRelease [15.9 kB]\n",
            "Get:15 http://archive.ubuntu.com/ubuntu bionic-backports InRelease [74.6 kB]\n",
            "Get:16 http://security.ubuntu.com/ubuntu bionic-security/multiverse amd64 Packages [26.7 kB]\n",
            "Get:17 http://security.ubuntu.com/ubuntu bionic-security/restricted amd64 Packages [510 kB]\n",
            "Get:18 https://cloud.r-project.org/bin/linux/ubuntu bionic-cran40/ Packages [66.2 kB]\n",
            "Get:19 http://ppa.launchpad.net/graphics-drivers/ppa/ubuntu bionic InRelease [21.3 kB]\n",
            "Ign:21 https://developer.download.nvidia.com/compute/cuda/repos/ubuntu1804/x86_64  Packages\n",
            "Get:21 https://developer.download.nvidia.com/compute/cuda/repos/ubuntu1804/x86_64  Packages [695 kB]\n",
            "Get:22 http://ppa.launchpad.net/c2d4u.team/c2d4u4.0+/ubuntu bionic/main Sources [1,790 kB]\n",
            "Get:23 http://archive.ubuntu.com/ubuntu bionic-updates/universe amd64 Packages [2,196 kB]\n",
            "Get:24 http://ppa.launchpad.net/c2d4u.team/c2d4u4.0+/ubuntu bionic/main amd64 Packages [916 kB]\n",
            "Get:25 http://archive.ubuntu.com/ubuntu bionic-updates/restricted amd64 Packages [544 kB]\n",
            "Get:26 http://archive.ubuntu.com/ubuntu bionic-updates/main amd64 Packages [2,699 kB]\n",
            "Get:27 http://archive.ubuntu.com/ubuntu bionic-updates/multiverse amd64 Packages [39.4 kB]\n",
            "Get:28 http://ppa.launchpad.net/deadsnakes/ppa/ubuntu bionic/main amd64 Packages [40.9 kB]\n",
            "Get:29 http://ppa.launchpad.net/graphics-drivers/ppa/ubuntu bionic/main amd64 Packages [44.1 kB]\n",
            "Fetched 13.6 MB in 5s (2,905 kB/s)\n",
            "Reading package lists... Done\n"
          ],
          "name": "stdout"
        }
      ]
    },
    {
      "cell_type": "code",
      "metadata": {
        "colab": {
          "base_uri": "https://localhost:8080/"
        },
        "id": "MclUWVJXxR3d",
        "outputId": "00e03dd6-335c-476a-d76b-69042e2c540a"
      },
      "source": [
        "# Download the Postgres driver that will allow Spark to interact with Postgres.\n",
        "!wget https://jdbc.postgresql.org/download/postgresql-42.2.16.jar"
      ],
      "execution_count": 2,
      "outputs": [
        {
          "output_type": "stream",
          "text": [
            "--2021-08-16 02:23:14--  https://jdbc.postgresql.org/download/postgresql-42.2.16.jar\n",
            "Resolving jdbc.postgresql.org (jdbc.postgresql.org)... 72.32.157.228, 2001:4800:3e1:1::228\n",
            "Connecting to jdbc.postgresql.org (jdbc.postgresql.org)|72.32.157.228|:443... connected.\n",
            "HTTP request sent, awaiting response... 200 OK\n",
            "Length: 1002883 (979K) [application/java-archive]\n",
            "Saving to: ‘postgresql-42.2.16.jar’\n",
            "\n",
            "postgresql-42.2.16. 100%[===================>] 979.38K  --.-KB/s    in 0.1s    \n",
            "\n",
            "2021-08-16 02:23:14 (6.56 MB/s) - ‘postgresql-42.2.16.jar’ saved [1002883/1002883]\n",
            "\n"
          ],
          "name": "stdout"
        }
      ]
    },
    {
      "cell_type": "code",
      "metadata": {
        "id": "7IayJd-5x0Lw"
      },
      "source": [
        "from pyspark.sql import SparkSession\n",
        "spark = SparkSession.builder.appName(\"M16-Amazon-Challenge\").config(\"spark.driver.extraClassPath\",\"/content/postgresql-42.2.16.jar\").getOrCreate()"
      ],
      "execution_count": 3,
      "outputs": []
    },
    {
      "cell_type": "code",
      "metadata": {
        "colab": {
          "base_uri": "https://localhost:8080/"
        },
        "id": "3ISeKlVTx5Oo",
        "outputId": "9a3b78ac-4b87-4c94-8113-1bbd8630ef58"
      },
      "source": [
        "from pyspark import SparkFiles\n",
        "url = \"https://s3.amazonaws.com/amazon-reviews-pds/tsv/amazon_reviews_us_Shoes_v1_00.tsv.gz\"\n",
        "spark.sparkContext.addFile(url)\n",
        "df = spark.read.option(\"encoding\", \"UTF-8\").csv(SparkFiles.get(\"\"), sep=\"\\t\", header=True, inferSchema=True)\n",
        "df.show()"
      ],
      "execution_count": 4,
      "outputs": [
        {
          "output_type": "stream",
          "text": [
            "+-----------+-----------+--------------+----------+--------------+--------------------+----------------+-----------+-------------+-----------+----+-----------------+--------------------+--------------------+-----------+\n",
            "|marketplace|customer_id|     review_id|product_id|product_parent|       product_title|product_category|star_rating|helpful_votes|total_votes|vine|verified_purchase|     review_headline|         review_body|review_date|\n",
            "+-----------+-----------+--------------+----------+--------------+--------------------+----------------+-----------+-------------+-----------+----+-----------------+--------------------+--------------------+-----------+\n",
            "|         US|   18069663|R3P2HIOQCIN5ZU|B000XB31C0|     265024781|Minnetonka Men's ...|           Shoes|          1|            0|          0|   N|                Y|                   .|Do not buy: reall...| 2015-08-31|\n",
            "|         US|   16251825|R12VVR0WH5Q24V|B00CFYZH5W|     259035853|Teva Men's Pajaro...|           Shoes|          5|            0|          0|   N|                Y|     super flip flop|provides great cu...| 2015-08-31|\n",
            "|         US|   20381037| RNCCKB6TV5EEF|B00S8JNN3Q|     666066660|Anne Klein Perfec...|           Shoes|          4|            0|          0|   N|                Y| Great clutch purse!|It's perfect if y...| 2015-08-31|\n",
            "|         US|     108364|R2NZXYIVCGB13W|B00XFBPOQG|     448483263|adidas Men's 10K ...|           Shoes|          5|            0|          6|   N|                Y|              Badass|  Getting what u see| 2015-08-31|\n",
            "|         US|   45449350|R2EQ1TG9IT3OEQ|B00SW64Y9W|       7853171|OverBling Sneaker...|           Shoes|          3|            0|          0|   N|                Y|         Three Stars|               small| 2015-08-31|\n",
            "|         US|   19324665|R1WXA9JSC2H1U1|B011F9E6LI|      14311457|MESSI 15.3 FG/AG ...|           Shoes|          5|            1|          1|   N|                Y|          Five Stars|My 13 year old so...| 2015-08-31|\n",
            "|         US|   50073594|R12ENYLFGGNWRV|B00HAUP1OI|     264821602|Hoka One One Men'...|           Shoes|          5|            1|          1|   N|                Y|Finally, some cus...|Ok, I have been s...| 2015-08-31|\n",
            "|         US|   21706057|R2R07E5PNXEUO5|B00L1RKOKW|     767118055|Olukai Nohea Mesh...|           Shoes|          4|            0|          0|   N|                Y|good deal, but ha...|I went a full siz...| 2015-08-31|\n",
            "|         US|   13708216|R27BA52AKWMWN3|B005WA9MSE|     813856438|Carolina Mens 6\" ...|           Shoes|          5|            0|          0|   N|                Y|... would have to...|I would have to s...| 2015-08-31|\n",
            "|         US|   40542649| RLF8DOID2KD5O|B00BEYQI5C|     661491213|Alegria Women's S...|           Shoes|          3|            0|          0|   N|                Y|           Too small|The size is misle...| 2015-08-31|\n",
            "|         US|   13409446|R369CEXHXHC6NQ|B00EYAFTCQ|     332158165|Naturalizer Women...|           Shoes|          5|            0|          0|   N|                Y|          Five Stars|These shoes are v...| 2015-08-31|\n",
            "|         US|    9451727|R171PPIJXFONVI|B00I0QHY32|      49243908|Forever Link Wome...|           Shoes|          5|            0|          0|   N|                Y|          Five Stars|I love these sand...| 2015-08-31|\n",
            "|         US|     193731|R2JDNM8F2P06FU|B010FZZKYA|     161497902|Versace Collectio...|           Shoes|          4|            1|          1|   N|                Y|          Four Stars|Good quality shoe...| 2015-08-31|\n",
            "|         US|   34798634|R2W977FO4M97XT|B00V8B30K2|     759958795|Twisted Girl's Ch...|           Shoes|          5|            0|          1|   N|                Y|Good shoes, comfo...|My daughter reall...| 2015-08-31|\n",
            "|         US|   37235551|R3AM24QPLI28UY|B00LAVB1TC|     910150896|Travel Smart Hand...|           Shoes|          2|            1|          2|   N|                Y|           Two Stars|         It's okay .| 2015-08-31|\n",
            "|         US|   27081399| REDVXSFYVNT5T|B003C1P8B0|     762792587|Saucony Originals...|           Shoes|          5|            0|          0|   N|                Y|    Love these shoes|Love these shoes!...| 2015-08-31|\n",
            "|         US|     120678|R14AIIK7D6ENDZ|B000W3UL7W|     123724495|Dr. Marten's Wome...|           Shoes|          5|            0|          0|   N|                Y|          Five Stars|                Good| 2015-08-31|\n",
            "|         US|   22272389|R3B1NURKMCVAL1|B00LX65PQO|     848850234|Skechers Performa...|           Shoes|          3|            2|          2|   N|                Y|         Three Stars|I like the go wal...| 2015-08-31|\n",
            "|         US|   19584241|R14Q1GZGV10IMX|B00BEE7N3I|     211637196|Hi-Tec Kid's Nepa...|           Shoes|          4|            0|          0|   N|                Y|          Four Stars|Kids love them fo...| 2015-08-31|\n",
            "|         US|   12334573| R9BHBB06QD6TM|B008NCHMBW|     138572112|Foot Sox Original...|           Shoes|          1|            2|          2|   N|                Y|Tissue paper is t...|Tissue paper is t...| 2015-08-31|\n",
            "+-----------+-----------+--------------+----------+--------------+--------------------+----------------+-----------+-------------+-----------+----+-----------------+--------------------+--------------------+-----------+\n",
            "only showing top 20 rows\n",
            "\n"
          ],
          "name": "stdout"
        }
      ]
    },
    {
      "cell_type": "markdown",
      "metadata": {
        "id": "eL1t2orf0As9"
      },
      "source": [
        "Step 1\n"
      ]
    },
    {
      "cell_type": "code",
      "metadata": {
        "colab": {
          "base_uri": "https://localhost:8080/"
        },
        "id": "2AsipSvhy1ro",
        "outputId": "40381feb-a59f-4a6a-d2b0-55610e70aa7a"
      },
      "source": [
        "# Filter the data and create a new DataFrame or table to retrieve all the rows where the total_votes \n",
        "# count is equal to or greater than 20 \n",
        "votes_df = df.filter(\"total_votes>=20\")\n",
        "votes_df.show()"
      ],
      "execution_count": 6,
      "outputs": [
        {
          "output_type": "stream",
          "text": [
            "+-----------+-----------+--------------+----------+--------------+--------------------+----------------+-----------+-------------+-----------+----+-----------------+--------------------+--------------------+-----------+\n",
            "|marketplace|customer_id|     review_id|product_id|product_parent|       product_title|product_category|star_rating|helpful_votes|total_votes|vine|verified_purchase|     review_headline|         review_body|review_date|\n",
            "+-----------+-----------+--------------+----------+--------------+--------------------+----------------+-----------+-------------+-----------+----+-----------------+--------------------+--------------------+-----------+\n",
            "|         US|   52181093|R37F42INKX7L9K|B00TQ6L9TK|     316459194|Travelon Converti...|           Shoes|          5|           45|         49|   N|                Y|Hermione Granger'...|I've been trying ...| 2015-08-31|\n",
            "|         US|   25865070|R2EHKYNEP8WVSR|B00UJ6B33I|     962947795|Hoxis Tassel Faux...|           Shoes|          5|           25|         25|   N|                Y|          Five Stars|Perfect size purs...| 2015-08-31|\n",
            "|         US|   43547721| RXOS7BHID0UHL|B010KK08LU|     128319757|Adidas Yeezy Boos...|           Shoes|          5|           16|         27|   N|                N|Had to sell my do...|I have always wan...| 2015-08-31|\n",
            "|         US|   48198529|R33HHGFPB403GM|B009K1WFAI|     875585913|Gucci GG1008 Eyeg...|           Shoes|          5|           19|         21|   N|                Y|          Five Stars|Love at first sig...| 2015-08-31|\n",
            "|         US|    6650445| RY9O9XNLP464N|B0117P7DV0|     445316900|KENSBUY Men's Lig...|           Shoes|          2|           19|         22|   N|                Y|    Can't Wear These|So small that I c...| 2015-08-31|\n",
            "|         US|   39742745|R2VP11C28JAEZF|B00S8CF9OE|     484693340|Merrell Women's M...|           Shoes|          5|           30|         30|   N|                Y|               Love!|These are minimal...| 2015-08-31|\n",
            "|         US|    3815095|R1TXGR1HA2M3P3|B00FNHMWG0|     853723688|Breckelles Women ...|           Shoes|          5|           28|         29|   N|                Y|I love them. I re...|I love them.<br /...| 2015-08-31|\n",
            "|         US|   51299002| R6OD85TMEMHQQ|B00KZJ0W4K|     813787483|Merrell Women's A...|           Shoes|          5|           28|         28|   N|                Y|Well made, modera...|After literally h...| 2015-08-31|\n",
            "|         US|    4645804|R1G4PAJXP3FTN7|B00LHUF7KA|      72964553|Five Ten Men's Fr...|           Shoes|          2|           43|         51|   N|                Y|Save your money p...|The quality is le...| 2015-08-31|\n",
            "|         US|    4261403|R2P2S8UGUMCOLX|B00WDWHHR2|     485655175|Betsey Johnson Te...|           Shoes|          5|           21|         22|   N|                Y|   I love this purse|I love this purse...| 2015-08-31|\n",
            "|         US|     108480| RBTQKXGJ9RP7C|B00XTNCOFO|     380758921|Micom 2017 Simple...|           Shoes|          1|           33|         33|   N|                Y|This purse should...|Let down!<br />I ...| 2015-08-31|\n",
            "|         US|   14892488|R342L93CXGDZO5|B00ZY3U7SS|      61663457|Franco Sarto Wome...|           Shoes|          2|           73|         76|   N|                Y|           Returning|&#34;Imported&#34...| 2015-08-31|\n",
            "|         US|   12268557|R31Z97KFD4HMNF|B00SK7TJ52|      47177433|Hot Chocolate Des...|           Shoes|          3|           23|         26|   N|                Y|I wish they would...|I bought 2 pair o...| 2015-08-31|\n",
            "|         US|   35626881|R2NDB7EQLYK87A|B00QH47Y34|     316874970|Brooks Womens Gho...|           Shoes|          5|           44|         46|   N|                Y|Not just for runn...|I tend bar and ha...| 2015-08-31|\n",
            "|         US|   51216855|R1C0W0OSBCVXC2|B00SNEQGW6|     182024722|FitFlop Women's S...|           Shoes|          1|           45|         46|   N|                Y|      Not well built|I bought these fl...| 2015-08-31|\n",
            "|         US|   10262456|R154Q41ID7FTFC|B010PC389M|     446355055|Kattee Women's Pu...|           Shoes|          5|           24|         26|   N|                Y|Fabulous silver m...|LOVE this leather...| 2015-08-31|\n",
            "|         US|   42205771|R3GFX9ZNZ0T3TA|B00XGH7SMM|     891843405|Hazel's Star Quad...|           Shoes|          1|           35|         35|   N|                Y|Shoe came apart o...|One shoe fell apa...| 2015-08-31|\n",
            "|         US|    3136659|R2H8MH0N2IZKMY|B00QTD5SQI|     229380469|Inov-8 Men's Terr...|           Shoes|          5|           22|         23|   N|                Y|  Simply the Best!!!|AWESOME shoes. Ra...| 2015-08-31|\n",
            "|         US|    2532037|R1MYE8WQ3812L8|B0014F61LM|     106800701|Kipling Seoul Sol...|           Shoes|          5|           17|         20|   N|                Y|          Five Stars|                null| 2015-08-31|\n",
            "|         US|    1082025| RYSL8MU2858GB|B00QM5BY8O|     377048469|Skechers for Work...|           Shoes|          5|           71|         73|   N|                Y|best nonslip shoe...|I work in a resta...| 2015-08-31|\n",
            "+-----------+-----------+--------------+----------+--------------+--------------------+----------------+-----------+-------------+-----------+----+-----------------+--------------------+--------------------+-----------+\n",
            "only showing top 20 rows\n",
            "\n"
          ],
          "name": "stdout"
        }
      ]
    },
    {
      "cell_type": "markdown",
      "metadata": {
        "id": "A-OXoMgB0IJ-"
      },
      "source": [
        "Step 2"
      ]
    },
    {
      "cell_type": "code",
      "metadata": {
        "colab": {
          "base_uri": "https://localhost:8080/"
        },
        "id": "4_f6dJ6IzbIO",
        "outputId": "e04ed433-4152-40e0-fce8-77b59e31b03c"
      },
      "source": [
        "# retrieve all the rows where the number of helpful_votes divided by total_votes is equal to or greater \n",
        "# than 50% \n",
        "helpful_divide_total_df= votes_df.filter(\"(helpful_votes/total_votes)>=0.5\")\n",
        "helpful_divide_total_df.show()\n"
      ],
      "execution_count": 9,
      "outputs": [
        {
          "output_type": "stream",
          "text": [
            "+-----------+-----------+--------------+----------+--------------+--------------------+----------------+-----------+-------------+-----------+----+-----------------+--------------------+--------------------+-----------+\n",
            "|marketplace|customer_id|     review_id|product_id|product_parent|       product_title|product_category|star_rating|helpful_votes|total_votes|vine|verified_purchase|     review_headline|         review_body|review_date|\n",
            "+-----------+-----------+--------------+----------+--------------+--------------------+----------------+-----------+-------------+-----------+----+-----------------+--------------------+--------------------+-----------+\n",
            "|         US|   52181093|R37F42INKX7L9K|B00TQ6L9TK|     316459194|Travelon Converti...|           Shoes|          5|           45|         49|   N|                Y|Hermione Granger'...|I've been trying ...| 2015-08-31|\n",
            "|         US|   25865070|R2EHKYNEP8WVSR|B00UJ6B33I|     962947795|Hoxis Tassel Faux...|           Shoes|          5|           25|         25|   N|                Y|          Five Stars|Perfect size purs...| 2015-08-31|\n",
            "|         US|   43547721| RXOS7BHID0UHL|B010KK08LU|     128319757|Adidas Yeezy Boos...|           Shoes|          5|           16|         27|   N|                N|Had to sell my do...|I have always wan...| 2015-08-31|\n",
            "|         US|   48198529|R33HHGFPB403GM|B009K1WFAI|     875585913|Gucci GG1008 Eyeg...|           Shoes|          5|           19|         21|   N|                Y|          Five Stars|Love at first sig...| 2015-08-31|\n",
            "|         US|    6650445| RY9O9XNLP464N|B0117P7DV0|     445316900|KENSBUY Men's Lig...|           Shoes|          2|           19|         22|   N|                Y|    Can't Wear These|So small that I c...| 2015-08-31|\n",
            "|         US|   39742745|R2VP11C28JAEZF|B00S8CF9OE|     484693340|Merrell Women's M...|           Shoes|          5|           30|         30|   N|                Y|               Love!|These are minimal...| 2015-08-31|\n",
            "|         US|    3815095|R1TXGR1HA2M3P3|B00FNHMWG0|     853723688|Breckelles Women ...|           Shoes|          5|           28|         29|   N|                Y|I love them. I re...|I love them.<br /...| 2015-08-31|\n",
            "|         US|   51299002| R6OD85TMEMHQQ|B00KZJ0W4K|     813787483|Merrell Women's A...|           Shoes|          5|           28|         28|   N|                Y|Well made, modera...|After literally h...| 2015-08-31|\n",
            "|         US|    4645804|R1G4PAJXP3FTN7|B00LHUF7KA|      72964553|Five Ten Men's Fr...|           Shoes|          2|           43|         51|   N|                Y|Save your money p...|The quality is le...| 2015-08-31|\n",
            "|         US|    4261403|R2P2S8UGUMCOLX|B00WDWHHR2|     485655175|Betsey Johnson Te...|           Shoes|          5|           21|         22|   N|                Y|   I love this purse|I love this purse...| 2015-08-31|\n",
            "|         US|     108480| RBTQKXGJ9RP7C|B00XTNCOFO|     380758921|Micom 2017 Simple...|           Shoes|          1|           33|         33|   N|                Y|This purse should...|Let down!<br />I ...| 2015-08-31|\n",
            "|         US|   14892488|R342L93CXGDZO5|B00ZY3U7SS|      61663457|Franco Sarto Wome...|           Shoes|          2|           73|         76|   N|                Y|           Returning|&#34;Imported&#34...| 2015-08-31|\n",
            "|         US|   12268557|R31Z97KFD4HMNF|B00SK7TJ52|      47177433|Hot Chocolate Des...|           Shoes|          3|           23|         26|   N|                Y|I wish they would...|I bought 2 pair o...| 2015-08-31|\n",
            "|         US|   35626881|R2NDB7EQLYK87A|B00QH47Y34|     316874970|Brooks Womens Gho...|           Shoes|          5|           44|         46|   N|                Y|Not just for runn...|I tend bar and ha...| 2015-08-31|\n",
            "|         US|   51216855|R1C0W0OSBCVXC2|B00SNEQGW6|     182024722|FitFlop Women's S...|           Shoes|          1|           45|         46|   N|                Y|      Not well built|I bought these fl...| 2015-08-31|\n",
            "|         US|   10262456|R154Q41ID7FTFC|B010PC389M|     446355055|Kattee Women's Pu...|           Shoes|          5|           24|         26|   N|                Y|Fabulous silver m...|LOVE this leather...| 2015-08-31|\n",
            "|         US|   42205771|R3GFX9ZNZ0T3TA|B00XGH7SMM|     891843405|Hazel's Star Quad...|           Shoes|          1|           35|         35|   N|                Y|Shoe came apart o...|One shoe fell apa...| 2015-08-31|\n",
            "|         US|    3136659|R2H8MH0N2IZKMY|B00QTD5SQI|     229380469|Inov-8 Men's Terr...|           Shoes|          5|           22|         23|   N|                Y|  Simply the Best!!!|AWESOME shoes. Ra...| 2015-08-31|\n",
            "|         US|    2532037|R1MYE8WQ3812L8|B0014F61LM|     106800701|Kipling Seoul Sol...|           Shoes|          5|           17|         20|   N|                Y|          Five Stars|                null| 2015-08-31|\n",
            "|         US|    1082025| RYSL8MU2858GB|B00QM5BY8O|     377048469|Skechers for Work...|           Shoes|          5|           71|         73|   N|                Y|best nonslip shoe...|I work in a resta...| 2015-08-31|\n",
            "+-----------+-----------+--------------+----------+--------------+--------------------+----------------+-----------+-------------+-----------+----+-----------------+--------------------+--------------------+-----------+\n",
            "only showing top 20 rows\n",
            "\n"
          ],
          "name": "stdout"
        }
      ]
    },
    {
      "cell_type": "markdown",
      "metadata": {
        "id": "hgMq_ZW-0LZm"
      },
      "source": [
        "Step 3"
      ]
    },
    {
      "cell_type": "code",
      "metadata": {
        "colab": {
          "base_uri": "https://localhost:8080/"
        },
        "id": "4zas71G90Og0",
        "outputId": "ef7529d6-206a-4d43-a2a8-da8c35d539c0"
      },
      "source": [
        "# Retrieves all the rows where a review was written as part of the Vine program (paid)\n",
        "Review_was_written_df = helpful_divide_total_df.filter(\"vine == 'Y'\")\n",
        "Review_was_written_df.show()"
      ],
      "execution_count": 10,
      "outputs": [
        {
          "output_type": "stream",
          "text": [
            "+-----------+-----------+--------------+----------+--------------+--------------------+----------------+-----------+-------------+-----------+----+-----------------+--------------------+--------------------+-----------+\n",
            "|marketplace|customer_id|     review_id|product_id|product_parent|       product_title|product_category|star_rating|helpful_votes|total_votes|vine|verified_purchase|     review_headline|         review_body|review_date|\n",
            "+-----------+-----------+--------------+----------+--------------+--------------------+----------------+-----------+-------------+-----------+----+-----------------+--------------------+--------------------+-----------+\n",
            "|         US|   17481726|R2N45ZKRRZS856|B00R9LA030|     587914328|New Balance Women...|           Shoes|          5|           21|         22|   Y|                N|Lightweight, Plen...|* While I've got ...| 2015-07-19|\n",
            "|         US|   34395794| R5OMLMK13A8NS|B00R9LA030|     587914328|New Balance Women...|           Shoes|          5|           34|         38|   Y|                N|Light, super-comf...|I am an inveterat...| 2015-07-13|\n",
            "|         US|   20151467|R2MPEQ4SPTEQNS|B00M15DG80|     638946346|Timberland Advent...|           Shoes|          4|          180|        184|   Y|                N|Good middle groun...|This is a pre-sum...| 2015-03-07|\n",
            "|         US|   51744990| RIR0D3KJ0CQ31|B00KQ2VQDC|     646945894|New Balance Women...|           Shoes|          4|           21|         21|   Y|                N|Very Good Neutral...|I am a long-time ...| 2015-02-07|\n",
            "|         US|   21155796|R1SPWJDHUWWC5E|B00LNN1EZ8|     257160693|New Balance Women...|           Shoes|          5|           88|         98|   Y|                N|NB Trainers desig...|These trainers ar...| 2015-02-06|\n",
            "|         US|   34030399|R1X6M5XA3FT98W|B00KQ57KWK|     615890400|New Balance Women...|           Shoes|          5|           24|         26|   Y|                N|Review from an ac...|I received a comp...| 2015-02-04|\n",
            "|         US|   52807614|R37VCW6HA0Z72T|B00NHUVTPA|     446678543|Foster Grant Zera...|           Shoes|          5|           27|         28|   Y|                N|New favorite read...|My wife likes to ...| 2015-01-31|\n",
            "|         US|   47694591|R2XRYNV2SY3ZKL|B00NHUW1NE|     789124161|Foster Grant Char...|           Shoes|          5|           53|         56|   Y|                N|I Can Not Pry The...|I opened up the p...| 2015-01-27|\n",
            "|         US|   45889291|R1Y93KWKAX1P5N|B00NHUVN10|     733135792|Foster Grant Sawy...|           Shoes|          2|           26|         31|   Y|                N|Same deal as othe...|I'm 47, and until...| 2015-01-23|\n",
            "|         US|   52195752|R2QVTDYYLTP8SL|B00NHUVFGS|     221663141|Foster Grant Cona...|           Shoes|          5|           21|         24|   Y|                N|        I Love These|Having recently l...| 2015-01-23|\n",
            "|         US|   50909644|R3KOK2SH39BZU1|B00NHUVF18|     221663141|Foster Grant Cona...|           Shoes|          3|           94|         96|   Y|                N|Non prescription ...|I have a desk fil...| 2015-01-23|\n",
            "|         US|   52464466|R2VOM73EHLPXJW|B00NHUVFGS|     221663141|Foster Grant Cona...|           Shoes|          4|           35|         38|   Y|                N|Surprisingly nice...|These are surpris...| 2015-01-22|\n",
            "|         US|   38066245|R3SEZS7BZEC69Y|B00NHUVTSM|     446678543|Foster Grant Zera...|           Shoes|          5|           16|         20|   Y|                N|These work as goo...|I was very surpri...| 2015-01-21|\n",
            "|         US|   33172089|R1MJ5J272V19O6|B00NHUW1UW|     789124161|Foster Grant Char...|           Shoes|          4|           49|         51|   Y|                N|Be aware of the l...|Okay. I know. Yes...| 2015-01-21|\n",
            "|         US|   50892063|R3A7BQX1JDKOM5|B00NHUV8SI|     968516609|Foster Grant Wes ...|           Shoes|          4|           20|         20|   Y|                N|My prescription g...|I've been looking...| 2015-01-18|\n",
            "|         US|   52637443|R1307JMPUEQXOW|B00M32FLL6|     329154367|Mizuno Women's Wa...|           Shoes|          5|           31|         35|   Y|                N|Great Shoes- but ...|These are great s...| 2014-12-27|\n",
            "|         US|   53058739| RXV0SDXE5B15T|B00IF3BG6G|     978028219|Cole Haan Women's...|           Shoes|          2|           39|         42|   Y|                N|Should have bette...|First the good: T...| 2014-12-09|\n",
            "|         US|   50145419| RBMDYE7LUH9FI|B00D8HXHYI|      82299308|New Balance Women...|           Shoes|          5|           26|         32|   Y|                N|An eye catching s...|I'm in so love wi...| 2014-07-15|\n",
            "|         US|   13303929|R1N4W961QV59BV|B00DOE9QFY|     877581216|New Balance Women...|           Shoes|          5|           25|         34|   Y|                N|A review from Boo...|The first thing t...| 2014-07-01|\n",
            "|         US|   50828717|R11XKHFS4KQS3Z|B00DOEA73O|     877581216|New Balance Women...|           Shoes|          4|          205|        211|   Y|                N|Nice style but to...|I am a fan of New...| 2014-06-30|\n",
            "+-----------+-----------+--------------+----------+--------------+--------------------+----------------+-----------+-------------+-----------+----+-----------------+--------------------+--------------------+-----------+\n",
            "only showing top 20 rows\n",
            "\n"
          ],
          "name": "stdout"
        }
      ]
    },
    {
      "cell_type": "markdown",
      "metadata": {
        "id": "l5e5N46I02C-"
      },
      "source": [
        "Step 4"
      ]
    },
    {
      "cell_type": "code",
      "metadata": {
        "colab": {
          "base_uri": "https://localhost:8080/"
        },
        "id": "mbL_KYF403ey",
        "outputId": "9e956adb-2eb9-4255-d820-099d63463b59"
      },
      "source": [
        "# Review was not written \n",
        "Review_wasnt_written_df = helpful_divide_total_df.filter(\"vine == 'N'\")\n",
        "Review_wasnt_written_df.show()"
      ],
      "execution_count": 11,
      "outputs": [
        {
          "output_type": "stream",
          "text": [
            "+-----------+-----------+--------------+----------+--------------+--------------------+----------------+-----------+-------------+-----------+----+-----------------+--------------------+--------------------+-----------+\n",
            "|marketplace|customer_id|     review_id|product_id|product_parent|       product_title|product_category|star_rating|helpful_votes|total_votes|vine|verified_purchase|     review_headline|         review_body|review_date|\n",
            "+-----------+-----------+--------------+----------+--------------+--------------------+----------------+-----------+-------------+-----------+----+-----------------+--------------------+--------------------+-----------+\n",
            "|         US|   52181093|R37F42INKX7L9K|B00TQ6L9TK|     316459194|Travelon Converti...|           Shoes|          5|           45|         49|   N|                Y|Hermione Granger'...|I've been trying ...| 2015-08-31|\n",
            "|         US|   25865070|R2EHKYNEP8WVSR|B00UJ6B33I|     962947795|Hoxis Tassel Faux...|           Shoes|          5|           25|         25|   N|                Y|          Five Stars|Perfect size purs...| 2015-08-31|\n",
            "|         US|   43547721| RXOS7BHID0UHL|B010KK08LU|     128319757|Adidas Yeezy Boos...|           Shoes|          5|           16|         27|   N|                N|Had to sell my do...|I have always wan...| 2015-08-31|\n",
            "|         US|   48198529|R33HHGFPB403GM|B009K1WFAI|     875585913|Gucci GG1008 Eyeg...|           Shoes|          5|           19|         21|   N|                Y|          Five Stars|Love at first sig...| 2015-08-31|\n",
            "|         US|    6650445| RY9O9XNLP464N|B0117P7DV0|     445316900|KENSBUY Men's Lig...|           Shoes|          2|           19|         22|   N|                Y|    Can't Wear These|So small that I c...| 2015-08-31|\n",
            "|         US|   39742745|R2VP11C28JAEZF|B00S8CF9OE|     484693340|Merrell Women's M...|           Shoes|          5|           30|         30|   N|                Y|               Love!|These are minimal...| 2015-08-31|\n",
            "|         US|    3815095|R1TXGR1HA2M3P3|B00FNHMWG0|     853723688|Breckelles Women ...|           Shoes|          5|           28|         29|   N|                Y|I love them. I re...|I love them.<br /...| 2015-08-31|\n",
            "|         US|   51299002| R6OD85TMEMHQQ|B00KZJ0W4K|     813787483|Merrell Women's A...|           Shoes|          5|           28|         28|   N|                Y|Well made, modera...|After literally h...| 2015-08-31|\n",
            "|         US|    4645804|R1G4PAJXP3FTN7|B00LHUF7KA|      72964553|Five Ten Men's Fr...|           Shoes|          2|           43|         51|   N|                Y|Save your money p...|The quality is le...| 2015-08-31|\n",
            "|         US|    4261403|R2P2S8UGUMCOLX|B00WDWHHR2|     485655175|Betsey Johnson Te...|           Shoes|          5|           21|         22|   N|                Y|   I love this purse|I love this purse...| 2015-08-31|\n",
            "|         US|     108480| RBTQKXGJ9RP7C|B00XTNCOFO|     380758921|Micom 2017 Simple...|           Shoes|          1|           33|         33|   N|                Y|This purse should...|Let down!<br />I ...| 2015-08-31|\n",
            "|         US|   14892488|R342L93CXGDZO5|B00ZY3U7SS|      61663457|Franco Sarto Wome...|           Shoes|          2|           73|         76|   N|                Y|           Returning|&#34;Imported&#34...| 2015-08-31|\n",
            "|         US|   12268557|R31Z97KFD4HMNF|B00SK7TJ52|      47177433|Hot Chocolate Des...|           Shoes|          3|           23|         26|   N|                Y|I wish they would...|I bought 2 pair o...| 2015-08-31|\n",
            "|         US|   35626881|R2NDB7EQLYK87A|B00QH47Y34|     316874970|Brooks Womens Gho...|           Shoes|          5|           44|         46|   N|                Y|Not just for runn...|I tend bar and ha...| 2015-08-31|\n",
            "|         US|   51216855|R1C0W0OSBCVXC2|B00SNEQGW6|     182024722|FitFlop Women's S...|           Shoes|          1|           45|         46|   N|                Y|      Not well built|I bought these fl...| 2015-08-31|\n",
            "|         US|   10262456|R154Q41ID7FTFC|B010PC389M|     446355055|Kattee Women's Pu...|           Shoes|          5|           24|         26|   N|                Y|Fabulous silver m...|LOVE this leather...| 2015-08-31|\n",
            "|         US|   42205771|R3GFX9ZNZ0T3TA|B00XGH7SMM|     891843405|Hazel's Star Quad...|           Shoes|          1|           35|         35|   N|                Y|Shoe came apart o...|One shoe fell apa...| 2015-08-31|\n",
            "|         US|    3136659|R2H8MH0N2IZKMY|B00QTD5SQI|     229380469|Inov-8 Men's Terr...|           Shoes|          5|           22|         23|   N|                Y|  Simply the Best!!!|AWESOME shoes. Ra...| 2015-08-31|\n",
            "|         US|    2532037|R1MYE8WQ3812L8|B0014F61LM|     106800701|Kipling Seoul Sol...|           Shoes|          5|           17|         20|   N|                Y|          Five Stars|                null| 2015-08-31|\n",
            "|         US|    1082025| RYSL8MU2858GB|B00QM5BY8O|     377048469|Skechers for Work...|           Shoes|          5|           71|         73|   N|                Y|best nonslip shoe...|I work in a resta...| 2015-08-31|\n",
            "+-----------+-----------+--------------+----------+--------------+--------------------+----------------+-----------+-------------+-----------+----+-----------------+--------------------+--------------------+-----------+\n",
            "only showing top 20 rows\n",
            "\n"
          ],
          "name": "stdout"
        }
      ]
    },
    {
      "cell_type": "markdown",
      "metadata": {
        "id": "8tccoY2j1NUZ"
      },
      "source": [
        "Step 5"
      ]
    },
    {
      "cell_type": "code",
      "metadata": {
        "id": "hWhBfM3G1OWX"
      },
      "source": [
        "# Determine the total number of reviews, the number of 5-star reviews, and the precentage of 5-star \n",
        "# reviews for the two types of review \n"
      ],
      "execution_count": null,
      "outputs": []
    },
    {
      "cell_type": "code",
      "metadata": {
        "colab": {
          "base_uri": "https://localhost:8080/"
        },
        "id": "XqSAHOpB1qwx",
        "outputId": "a9a5115e-602b-4e9d-9e54-60b28febacec"
      },
      "source": [
        "# Total number of reviews\n",
        "total_number_reviews = helpful_divide_total_df.count()\n",
        "total_number_reviews"
      ],
      "execution_count": 14,
      "outputs": [
        {
          "output_type": "execute_result",
          "data": {
            "text/plain": [
              "27009"
            ]
          },
          "metadata": {
            "tags": []
          },
          "execution_count": 14
        }
      ]
    },
    {
      "cell_type": "code",
      "metadata": {
        "colab": {
          "base_uri": "https://localhost:8080/"
        },
        "id": "Ea_MIyjW2_tm",
        "outputId": "f78c5edb-aeb9-4b41-e6f5-aeb57ec48a82"
      },
      "source": [
        "# Total paid reviews\n",
        "total_paid_reviews = Review_was_written_df.count()\n",
        "total_paid_reviews"
      ],
      "execution_count": 15,
      "outputs": [
        {
          "output_type": "execute_result",
          "data": {
            "text/plain": [
              "22"
            ]
          },
          "metadata": {
            "tags": []
          },
          "execution_count": 15
        }
      ]
    },
    {
      "cell_type": "code",
      "metadata": {
        "colab": {
          "base_uri": "https://localhost:8080/"
        },
        "id": "okQ05QyQ4Imy",
        "outputId": "06127eba-8c2e-4041-a9cc-25e34de9ece1"
      },
      "source": [
        "# Total unpaid reviews\n",
        "total_unpaid_reviews = Review_wasnt_written_df.count()\n",
        "total_unpaid_reviews"
      ],
      "execution_count": 16,
      "outputs": [
        {
          "output_type": "execute_result",
          "data": {
            "text/plain": [
              "26987"
            ]
          },
          "metadata": {
            "tags": []
          },
          "execution_count": 16
        }
      ]
    },
    {
      "cell_type": "code",
      "metadata": {
        "colab": {
          "base_uri": "https://localhost:8080/"
        },
        "id": "MIgRyhYM4Yzv",
        "outputId": "a099e842-11c7-4749-e997-734bb8f4ffe9"
      },
      "source": [
        "# Total 5 stars reviews\n",
        "total_five_star_reviews = helpful_divide_total_df.filter(\"star_rating == 5\").count()\n",
        "total_five_star_reviews"
      ],
      "execution_count": 17,
      "outputs": [
        {
          "output_type": "execute_result",
          "data": {
            "text/plain": [
              "14488"
            ]
          },
          "metadata": {
            "tags": []
          },
          "execution_count": 17
        }
      ]
    },
    {
      "cell_type": "code",
      "metadata": {
        "colab": {
          "base_uri": "https://localhost:8080/"
        },
        "id": "mKQj_DmL5EFX",
        "outputId": "e10c4415-645e-440b-bc02-f1038b6883db"
      },
      "source": [
        "# Total 5 stars paid reviews\n",
        "total_five_star_paid_reviews = Review_was_written_df.filter(\"star_rating == 5\").count()\n",
        "total_five_star_paid_reviews"
      ],
      "execution_count": 19,
      "outputs": [
        {
          "output_type": "execute_result",
          "data": {
            "text/plain": [
              "13"
            ]
          },
          "metadata": {
            "tags": []
          },
          "execution_count": 19
        }
      ]
    },
    {
      "cell_type": "code",
      "metadata": {
        "colab": {
          "base_uri": "https://localhost:8080/"
        },
        "id": "M2GramlT5d0I",
        "outputId": "fdc5402c-7c1d-4fb1-af94-c5aa221440cb"
      },
      "source": [
        "# Total 5 stars unpaid reviews\n",
        "total_five_star_unpaid_reviews = Review_wasnt_written_df.filter(\"star_rating == 5\").count()\n",
        "total_five_star_unpaid_reviews"
      ],
      "execution_count": 20,
      "outputs": [
        {
          "output_type": "execute_result",
          "data": {
            "text/plain": [
              "14475"
            ]
          },
          "metadata": {
            "tags": []
          },
          "execution_count": 20
        }
      ]
    },
    {
      "cell_type": "code",
      "metadata": {
        "colab": {
          "base_uri": "https://localhost:8080/"
        },
        "id": "qpgO9DLR5-lh",
        "outputId": "496ca3b3-1213-42db-c35d-a4cea3bac4fc"
      },
      "source": [
        "# percentage of 5 stars in paid reviews \n",
        "100*total_five_star_paid_reviews/total_paid_reviews\n"
      ],
      "execution_count": 23,
      "outputs": [
        {
          "output_type": "execute_result",
          "data": {
            "text/plain": [
              "59.09090909090909"
            ]
          },
          "metadata": {
            "tags": []
          },
          "execution_count": 23
        }
      ]
    },
    {
      "cell_type": "code",
      "metadata": {
        "colab": {
          "base_uri": "https://localhost:8080/"
        },
        "id": "G9VMhPZW63uo",
        "outputId": "2c52c716-ed27-4649-cd7c-0682f76edeb7"
      },
      "source": [
        "# percentage of 5 stars in unpaid reviews \n",
        "100*total_five_star_unpaid_reviews/total_unpaid_reviews"
      ],
      "execution_count": 24,
      "outputs": [
        {
          "output_type": "execute_result",
          "data": {
            "text/plain": [
              "53.636936302664246"
            ]
          },
          "metadata": {
            "tags": []
          },
          "execution_count": 24
        }
      ]
    }
  ]
}